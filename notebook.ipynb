{
 "cells": [
  {
   "cell_type": "markdown",
   "id": "33ae4e23",
   "metadata": {},
   "source": [
    "# Game of Thrones \n",
    "\n",
    "**Game of Thrones** is an American *fantasy drama* television series created by **David Benioff** and **D.B. Weiss**. \n",
    "\n",
    "The series is based on **George R.R. Martin**'s series of fantasy novels, *A Song of Ice and Fire*. \n",
    "\n",
    "The series takes place in the fictional continents of *Westeros* and *Essos*, and chronicles the power struggles among noble families as they fight for control of the *Iron Throne* of the Seven Kingdoms.$^1$\n",
    "\n",
    "1. Source: [Wikipedia](https://en.wikipedia.org/wiki/List_of_Game_of_Thrones_episodes)"
   ]
  },
  {
   "cell_type": "markdown",
   "id": "da58ff8b",
   "metadata": {},
   "source": [
    "![Game of Thrones Logo](img/Game_of_Thrones_2011_logo.svg.png \"Game of Thrones Logo\")"
   ]
  },
  {
   "cell_type": "markdown",
   "id": "2efe93d8",
   "metadata": {},
   "source": [
    "## Series Statistics "
   ]
  },
  {
   "cell_type": "markdown",
   "id": "f5c8c9fb",
   "metadata": {},
   "source": [
    "Average viewership for each season in the U.S. in milions"
   ]
  },
  {
   "cell_type": "code",
   "execution_count": 8,
   "id": "03ca5a1e",
   "metadata": {},
   "outputs": [
    {
     "data": {
      "application/vnd.microsoft.datawrangler.viewer.v0+json": {
       "columns": [
        {
         "name": "Season",
         "rawType": "int64",
         "type": "integer"
        },
        {
         "name": "Average viewership",
         "rawType": "float64",
         "type": "float"
        }
       ],
       "ref": "0761025d-fb9a-46ff-9650-cdaef9fdf698",
       "rows": [
        [
         "1",
         "2.52"
        ],
        [
         "2",
         "3.8"
        ],
        [
         "3",
         "4.97"
        ],
        [
         "4",
         "6.85"
        ],
        [
         "5",
         "6.88"
        ],
        [
         "6",
         "7.69"
        ],
        [
         "7",
         "10.26"
        ],
        [
         "8",
         "11.99"
        ]
       ],
       "shape": {
        "columns": 1,
        "rows": 8
       }
      },
      "text/html": [
       "<div>\n",
       "<style scoped>\n",
       "    .dataframe tbody tr th:only-of-type {\n",
       "        vertical-align: middle;\n",
       "    }\n",
       "\n",
       "    .dataframe tbody tr th {\n",
       "        vertical-align: top;\n",
       "    }\n",
       "\n",
       "    .dataframe thead th {\n",
       "        text-align: right;\n",
       "    }\n",
       "</style>\n",
       "<table border=\"1\" class=\"dataframe\">\n",
       "  <thead>\n",
       "    <tr style=\"text-align: right;\">\n",
       "      <th></th>\n",
       "      <th>Average viewership</th>\n",
       "    </tr>\n",
       "    <tr>\n",
       "      <th>Season</th>\n",
       "      <th></th>\n",
       "    </tr>\n",
       "  </thead>\n",
       "  <tbody>\n",
       "    <tr>\n",
       "      <th>1</th>\n",
       "      <td>2.52</td>\n",
       "    </tr>\n",
       "    <tr>\n",
       "      <th>2</th>\n",
       "      <td>3.80</td>\n",
       "    </tr>\n",
       "    <tr>\n",
       "      <th>3</th>\n",
       "      <td>4.97</td>\n",
       "    </tr>\n",
       "    <tr>\n",
       "      <th>4</th>\n",
       "      <td>6.85</td>\n",
       "    </tr>\n",
       "    <tr>\n",
       "      <th>5</th>\n",
       "      <td>6.88</td>\n",
       "    </tr>\n",
       "    <tr>\n",
       "      <th>6</th>\n",
       "      <td>7.69</td>\n",
       "    </tr>\n",
       "    <tr>\n",
       "      <th>7</th>\n",
       "      <td>10.26</td>\n",
       "    </tr>\n",
       "    <tr>\n",
       "      <th>8</th>\n",
       "      <td>11.99</td>\n",
       "    </tr>\n",
       "  </tbody>\n",
       "</table>\n",
       "</div>"
      ],
      "text/plain": [
       "        Average viewership\n",
       "Season                    \n",
       "1                     2.52\n",
       "2                     3.80\n",
       "3                     4.97\n",
       "4                     6.85\n",
       "5                     6.88\n",
       "6                     7.69\n",
       "7                    10.26\n",
       "8                    11.99"
      ]
     },
     "execution_count": 8,
     "metadata": {},
     "output_type": "execute_result"
    }
   ],
   "source": [
    "import pandas as pd\n",
    "data = pd.read_csv(\"data/data.csv\")\n",
    "data.groupby(\"Season\").agg(**\n",
    "    {\"Average viewership\": (\"U.S. Viewers\", \"mean\")}\n",
    ").round(2)"
   ]
  },
  {
   "cell_type": "markdown",
   "id": "080752fd",
   "metadata": {},
   "source": [
    "We can see that for each season the viewership has increased"
   ]
  },
  {
   "cell_type": "code",
   "execution_count": null,
   "id": "2a150752",
   "metadata": {},
   "outputs": [],
   "source": []
  }
 ],
 "metadata": {
  "kernelspec": {
   "display_name": ".venv",
   "language": "python",
   "name": "python3"
  },
  "language_info": {
   "codemirror_mode": {
    "name": "ipython",
    "version": 3
   },
   "file_extension": ".py",
   "mimetype": "text/x-python",
   "name": "python",
   "nbconvert_exporter": "python",
   "pygments_lexer": "ipython3",
   "version": "3.13.3"
  }
 },
 "nbformat": 4,
 "nbformat_minor": 5
}
