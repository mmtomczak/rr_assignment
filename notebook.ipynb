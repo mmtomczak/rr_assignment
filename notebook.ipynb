{
 "cells": [
  {
   "cell_type": "markdown",
   "id": "33ae4e23",
   "metadata": {},
   "source": [
    "# Game of Thrones \n",
    "\n",
    "**Game of Thrones** is an American *fantasy drama* television series created by **David Benioff** and **D.B. Weiss**. \n",
    "\n",
    "The series is based on **George R.R. Martin**'s series of fantasy novels, *A Song of Ice and Fire*. \n",
    "\n",
    "The series takes place in the fictional continents of *Westeros* and *Essos*, and chronicles the power struggles among noble families as they fight for control of the *Iron Throne* of the Seven Kingdoms.$^1$\n",
    "\n",
    "1. Source: [Wikipedia](https://en.wikipedia.org/wiki/List_of_Game_of_Thrones_episodes)"
   ]
  },
  {
   "cell_type": "markdown",
   "id": "da58ff8b",
   "metadata": {},
   "source": [
    "![Game of Thrones Logo](img/Game_of_Thrones_2011_logo.svg.png \"Game of Thrones Logo\")"
   ]
  },
  {
   "cell_type": "code",
   "execution_count": null,
   "id": "03ca5a1e",
   "metadata": {},
   "outputs": [],
   "source": []
  }
 ],
 "metadata": {
  "kernelspec": {
   "display_name": ".venv",
   "language": "python",
   "name": "python3"
  },
  "language_info": {
   "codemirror_mode": {
    "name": "ipython",
    "version": 3
   },
   "file_extension": ".py",
   "mimetype": "text/x-python",
   "name": "python",
   "nbconvert_exporter": "python",
   "pygments_lexer": "ipython3",
   "version": "3.13.3"
  }
 },
 "nbformat": 4,
 "nbformat_minor": 5
}
